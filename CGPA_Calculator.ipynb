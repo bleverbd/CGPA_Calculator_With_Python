{
 "cells": [
  {
   "cell_type": "code",
   "execution_count": 1,
   "id": "1de156bd-05de-4c3b-8bd5-f42767ccf434",
   "metadata": {},
   "outputs": [
    {
     "name": "stdout",
     "output_type": "stream",
     "text": [
      "########### Wellcome To My CGPA Calculator ############\n",
      "\n",
      " 1.Press 1 to Calculate with Cource \n",
      " 2.Press 2 to Clculate With Semester\n",
      "Enter you chosse:\n"
     ]
    },
    {
     "name": "stdin",
     "output_type": "stream",
     "text": [
      " 1\n"
     ]
    },
    {
     "name": "stdout",
     "output_type": "stream",
     "text": [
      "Enter The Previous Credit Earned: \n"
     ]
    },
    {
     "name": "stdin",
     "output_type": "stream",
     "text": [
      " 97.5\n"
     ]
    },
    {
     "name": "stdout",
     "output_type": "stream",
     "text": [
      "Enter The Previous CGPA: \n"
     ]
    },
    {
     "name": "stdin",
     "output_type": "stream",
     "text": [
      " 3.35\n"
     ]
    },
    {
     "name": "stdout",
     "output_type": "stream",
     "text": [
      "Enter Total Course Number\n"
     ]
    },
    {
     "name": "stdin",
     "output_type": "stream",
     "text": [
      " 11\n"
     ]
    },
    {
     "name": "stdout",
     "output_type": "stream",
     "text": [
      "Enter Your Course_1 Credit and Number\n"
     ]
    },
    {
     "name": "stdin",
     "output_type": "stream",
     "text": [
      " 0.75\n",
      " 80\n"
     ]
    },
    {
     "name": "stdout",
     "output_type": "stream",
     "text": [
      "Enter Your Course_2 Credit and Number\n"
     ]
    },
    {
     "name": "stdin",
     "output_type": "stream",
     "text": [
      " 0.75\n",
      " 80\n"
     ]
    },
    {
     "name": "stdout",
     "output_type": "stream",
     "text": [
      "Enter Your Course_3 Credit and Number\n"
     ]
    },
    {
     "name": "stdin",
     "output_type": "stream",
     "text": [
      " 0.75\n",
      " 80\n"
     ]
    },
    {
     "name": "stdout",
     "output_type": "stream",
     "text": [
      "Enter Your Course_4 Credit and Number\n"
     ]
    },
    {
     "name": "stdin",
     "output_type": "stream",
     "text": [
      " 0.75\n",
      " 80\n"
     ]
    },
    {
     "name": "stdout",
     "output_type": "stream",
     "text": [
      "Enter Your Course_5 Credit and Number\n"
     ]
    },
    {
     "name": "stdin",
     "output_type": "stream",
     "text": [
      " 0.75\n",
      " 72\n"
     ]
    },
    {
     "name": "stdout",
     "output_type": "stream",
     "text": [
      "Enter Your Course_6 Credit and Number\n"
     ]
    },
    {
     "name": "stdin",
     "output_type": "stream",
     "text": [
      " 3\n",
      " 80\n"
     ]
    },
    {
     "name": "stdout",
     "output_type": "stream",
     "text": [
      "Enter Your Course_7 Credit and Number\n"
     ]
    },
    {
     "name": "stdin",
     "output_type": "stream",
     "text": [
      " 3\n",
      " 80\n"
     ]
    },
    {
     "name": "stdout",
     "output_type": "stream",
     "text": [
      "Enter Your Course_8 Credit and Number\n"
     ]
    },
    {
     "name": "stdin",
     "output_type": "stream",
     "text": [
      " 3\n",
      " 80\n"
     ]
    },
    {
     "name": "stdout",
     "output_type": "stream",
     "text": [
      "Enter Your Course_9 Credit and Number\n"
     ]
    },
    {
     "name": "stdin",
     "output_type": "stream",
     "text": [
      " 3\n",
      " 80\n"
     ]
    },
    {
     "name": "stdout",
     "output_type": "stream",
     "text": [
      "Enter Your Course_10 Credit and Number\n"
     ]
    },
    {
     "name": "stdin",
     "output_type": "stream",
     "text": [
      " 3\n",
      " 80\n"
     ]
    },
    {
     "name": "stdout",
     "output_type": "stream",
     "text": [
      "Enter Your Course_11 Credit and Number\n"
     ]
    },
    {
     "name": "stdin",
     "output_type": "stream",
     "text": [
      " 4\n",
      " 72\n"
     ]
    },
    {
     "name": "stdout",
     "output_type": "stream",
     "text": [
      "Course Name \t Credit Hours \t Letter Grade \t Grade Point\n",
      "Course_1\t\t0.75\t\tA Plus\t\t4.0\n",
      "Course_2\t\t0.75\t\tA Plus\t\t4.0\n",
      "Course_3\t\t0.75\t\tA Plus\t\t4.0\n",
      "Course_4\t\t0.75\t\tA Plus\t\t4.0\n",
      "Course_5\t\t0.75\t\tA Minus\t\t3.5\n",
      "Course_6\t\t3.0\t\tA Plus\t\t4.0\n",
      "Course_7\t\t3.0\t\tA Plus\t\t4.0\n",
      "Course_8\t\t3.0\t\tA Plus\t\t4.0\n",
      "Course_9\t\t3.0\t\tA Plus\t\t4.0\n",
      "Course_10\t\t3.0\t\tA Plus\t\t4.0\n",
      "Course_11\t\t4.0\t\tA Minus\t\t3.5\n",
      "\n",
      "\t\t\t\t\t\t\tGPA: 3.90\n",
      "Registered Credit Hours in this Semester: 22.75\n",
      "Credit Hours Earned in this Semester: 22.75\n",
      "Total Credit Hours Earned: 120.25\n",
      "CGPA: 3.45\n"
     ]
    }
   ],
   "source": [
    "print(\"########### Wellcome To My CGPA Calculator ############\")\n",
    "print(\"\\n 1.Press 1 to Calculate with Cource \\n 2.Press 2 to Clculate With Semester\")\n",
    "\n",
    "print(\"Enter you chosse:\")\n",
    "chosse=int(input())\n",
    "if(chosse==1):\n",
    "    print(\"Enter The Previous Credit Earned: \")\n",
    "    previous_credit_earned=float(input())\n",
    "    print(\"Enter The Previous CGPA: \")\n",
    "    previous_cgpa=float(input())\n",
    "\n",
    "    credit_list=[]\n",
    "    review_list=[]\n",
    "    number_list=[]\n",
    "    letter_grade=[]\n",
    "    grade_point=[]\n",
    "    sum_of_credit_and_grade=0.0\n",
    "\n",
    "    print(\"Enter Total Course Number\")\n",
    "    total=int(input())\n",
    "    for i in range(0,total):\n",
    "        print(\"Enter Your Course_{} Credit and Number\".format(i+1))\n",
    "        credit_list.append(float(input()))\n",
    "        number_list.append(float(input()))\n",
    "        if(number_list[i]>=80.0 and number_list[i]<=100.0):\n",
    "             letter_grade.append(\"A Plus\")\n",
    "             grade_point.append(4.0)\n",
    "             sum_of_credit_and_grade=sum_of_credit_and_grade+credit_list[i]*grade_point[i]\n",
    "\n",
    "        elif(number_list[i]>=75.0 and number_list[i]<80.0):\n",
    "             letter_grade.append(\"A Regular\")\n",
    "             grade_point.append(3.75)\n",
    "             sum_of_credit_and_grade=sum_of_credit_and_grade+credit_list[i]*grade_point[i]\n",
    "        elif(number_list[i]>=70.0 and number_list[i]<75.0):\n",
    "             letter_grade.append(\"A Minus\")\n",
    "             grade_point.append(3.50)\n",
    "             sum_of_credit_and_grade=sum_of_credit_and_grade+credit_list[i]*grade_point[i]\n",
    "        elif(number_list[i]>=65.0 and number_list[i]<70.0):\n",
    "             letter_grade.append(\"B Plus\")\n",
    "             grade_point.append(3.25)\n",
    "             sum_of_credit_and_grade=sum_of_credit_and_grade+credit_list[i]*grade_point[i]\n",
    "        elif(number_list[i]>=60.0 and number_list[i]<65.0):\n",
    "             letter_grade.append(\"B Regular\")\n",
    "             grade_point.append(3.00)\n",
    "             sum_of_credit_and_grade=sum_of_credit_and_grade+credit_list[i]*grade_point[i]\n",
    "        elif(number_list[i]>=55.0 and number_list[i]<60.0):\n",
    "             letter_grade.append(\"B Minus\")\n",
    "             grade_point.append(2.75)\n",
    "             sum_of_credit_and_grade=sum_of_credit_and_grade+credit_list[i]*grade_point[i]\n",
    "        elif(number_list[i]>=50.0 and number_list[i]<55.0):\n",
    "             letter_grade.append(\"C Plus\")\n",
    "             grade_point.append(2.50)\n",
    "             sum_of_credit_and_grade=sum_of_credit_and_grade+credit_list[i]*grade_point[i]\n",
    "        elif(number_list[i]>=45.0 and number_list[i]<50.0):\n",
    "             letter_grade.append(\"C Regular\")\n",
    "             grade_point.append(2.25)\n",
    "             sum_of_credit_and_grade=sum_of_credit_and_grade+credit_list[i]*grade_point[i]\n",
    "        elif(number_list[i]>=40.0 and number_list[i]<45.0):\n",
    "             letter_grade.append(\"D\")\n",
    "             grade_point.append(2.00)\n",
    "             sum_of_credit_and_grade=sum_of_credit_and_grade+credit_list[i]*grade_point[i]\n",
    "        elif(number_list[i]<40.0):\n",
    "             letter_grade.append(\"F\")\n",
    "             grade_point.append(0.00)\n",
    "             review_list.append(credit_list[i])\n",
    "             \n",
    "    \n",
    "    sumation_of_earned_credit=sum(credit_list)-sum(review_list)\n",
    "    gpa=sum_of_credit_and_grade/sumation_of_earned_credit\n",
    "    print(\"Course Name \\t Credit Hours \\t Letter Grade \\t Grade Point\")\n",
    "    for i in range(0,total):\n",
    "         print(\"Course_{}\\t\\t{}\\t\\t{}\\t\\t{}\".format(i+1,credit_list[i],letter_grade[i],grade_point[i]))\n",
    "    \n",
    "    print(\"\\n\\t\\t\\t\\t\\t\\t\\tGPA: {:0.2f}\".format(gpa))\n",
    "    print(\"Registered Credit Hours in this Semester: {}\".format(sum(credit_list)))\n",
    "    print(\"Credit Hours Earned in this Semester: {}\".format(sumation_of_earned_credit))\n",
    "    print(\"Total Credit Hours Earned: {}\".format(previous_credit_earned+sumation_of_earned_credit))\n",
    "    cgpa=(((previous_cgpa*previous_credit_earned)+(sumation_of_earned_credit*gpa))/(previous_credit_earned+sumation_of_earned_credit))\n",
    "    print(\"CGPA: {:0.2f}\".format(cgpa))\n",
    "\n",
    "\n",
    "\n",
    "elif(chosse==2):\n",
    "      credit_earned=[]\n",
    "      grade_earned=[]\n",
    "      sum_of_gpa=0\n",
    "      print(\"Enter Total Semester Number\")\n",
    "      total=int(input())\n",
    "      for i in range(0,total):\n",
    "           print(\"Enter Your Semester_{} Credit and Grade\".format(i+1))\n",
    "           credit_earned.append(float(input()))\n",
    "           grade_earned.append(float(input()))\n",
    "           sum_of_gpa= sum_of_gpa + credit_earned[i]*grade_earned[i]\n",
    "     \n",
    "\n",
    "      print(\"Toral Semester: {}\".format(total))\n",
    "      print(\"Total Credit: {}\".format(sum(credit_earned)))\n",
    "      print(\"Total Grade: {:0.2f}\".format(sum(grade_earned)))\n",
    "      print(\"CGPA {:0.2f}\".format(sum_of_gpa/sum(credit_earned)))\n",
    "\n",
    "\n",
    "\n",
    "\n",
    "        \n",
    "\n",
    "\n",
    "\n",
    "\n",
    "\n",
    "    "
   ]
  },
  {
   "cell_type": "code",
   "execution_count": 2,
   "id": "bd6c4b59-fadc-4a85-9407-1ad3bd6a6be9",
   "metadata": {},
   "outputs": [
    {
     "name": "stdout",
     "output_type": "stream",
     "text": [
      "########### Wellcome To My CGPA Calculator ############\n",
      "\n",
      " 1.Press 1 to Calculate with Cource \n",
      " 2.Press 2 to Clculate With Semester\n",
      "Enter you chosse:\n"
     ]
    },
    {
     "name": "stdin",
     "output_type": "stream",
     "text": [
      " 2\n"
     ]
    },
    {
     "name": "stdout",
     "output_type": "stream",
     "text": [
      "Enter Total Semester Number\n"
     ]
    },
    {
     "name": "stdin",
     "output_type": "stream",
     "text": [
      " 2\n"
     ]
    },
    {
     "name": "stdout",
     "output_type": "stream",
     "text": [
      "Enter Your Semester_1 Credit and Grade\n"
     ]
    },
    {
     "name": "stdin",
     "output_type": "stream",
     "text": [
      " 120.25\n",
      " 3.46\n"
     ]
    },
    {
     "name": "stdout",
     "output_type": "stream",
     "text": [
      "Enter Your Semester_2 Credit and Grade\n"
     ]
    },
    {
     "name": "stdin",
     "output_type": "stream",
     "text": [
      " 25.25\n",
      " 3.75\n"
     ]
    },
    {
     "name": "stdout",
     "output_type": "stream",
     "text": [
      "Toral Semester: 2\n",
      "Total Credit: 145.5\n",
      "Total Grade: 7.21\n",
      "CGPA 3.51\n"
     ]
    }
   ],
   "source": [
    "print(\"########### Wellcome To My CGPA Calculator ############\")\n",
    "print(\"\\n 1.Press 1 to Calculate with Cource \\n 2.Press 2 to Clculate With Semester\")\n",
    "\n",
    "print(\"Enter you chosse:\")\n",
    "chosse=int(input())\n",
    "if(chosse==1):\n",
    "    print(\"Enter The Previous Credit Earned: \")\n",
    "    previous_credit_earned=float(input())\n",
    "    print(\"Enter The Previous CGPA: \")\n",
    "    previous_cgpa=float(input())\n",
    "\n",
    "    credit_list=[]\n",
    "    review_list=[]\n",
    "    number_list=[]\n",
    "    letter_grade=[]\n",
    "    grade_point=[]\n",
    "    sum_of_credit_and_grade=0.0\n",
    "\n",
    "    print(\"Enter Total Course Number\")\n",
    "    total=int(input())\n",
    "    for i in range(0,total):\n",
    "        print(\"Enter Your Course_{} Credit and Number\".format(i+1))\n",
    "        credit_list.append(float(input()))\n",
    "        number_list.append(float(input()))\n",
    "        if(number_list[i]>=80.0 and number_list[i]<=100.0):\n",
    "             letter_grade.append(\"A Plus\")\n",
    "             grade_point.append(4.0)\n",
    "             sum_of_credit_and_grade=sum_of_credit_and_grade+credit_list[i]*grade_point[i]\n",
    "\n",
    "        elif(number_list[i]>=75.0 and number_list[i]<80.0):\n",
    "             letter_grade.append(\"A Regular\")\n",
    "             grade_point.append(3.75)\n",
    "             sum_of_credit_and_grade=sum_of_credit_and_grade+credit_list[i]*grade_point[i]\n",
    "        elif(number_list[i]>=70.0 and number_list[i]<75.0):\n",
    "             letter_grade.append(\"A Minus\")\n",
    "             grade_point.append(3.50)\n",
    "             sum_of_credit_and_grade=sum_of_credit_and_grade+credit_list[i]*grade_point[i]\n",
    "        elif(number_list[i]>=65.0 and number_list[i]<70.0):\n",
    "             letter_grade.append(\"B Plus\")\n",
    "             grade_point.append(3.25)\n",
    "             sum_of_credit_and_grade=sum_of_credit_and_grade+credit_list[i]*grade_point[i]\n",
    "        elif(number_list[i]>=60.0 and number_list[i]<65.0):\n",
    "             letter_grade.append(\"B Regular\")\n",
    "             grade_point.append(3.00)\n",
    "             sum_of_credit_and_grade=sum_of_credit_and_grade+credit_list[i]*grade_point[i]\n",
    "        elif(number_list[i]>=55.0 and number_list[i]<60.0):\n",
    "             letter_grade.append(\"B Minus\")\n",
    "             grade_point.append(2.75)\n",
    "             sum_of_credit_and_grade=sum_of_credit_and_grade+credit_list[i]*grade_point[i]\n",
    "        elif(number_list[i]>=50.0 and number_list[i]<55.0):\n",
    "             letter_grade.append(\"C Plus\")\n",
    "             grade_point.append(2.50)\n",
    "             sum_of_credit_and_grade=sum_of_credit_and_grade+credit_list[i]*grade_point[i]\n",
    "        elif(number_list[i]>=45.0 and number_list[i]<50.0):\n",
    "             letter_grade.append(\"C Regular\")\n",
    "             grade_point.append(2.25)\n",
    "             sum_of_credit_and_grade=sum_of_credit_and_grade+credit_list[i]*grade_point[i]\n",
    "        elif(number_list[i]>=40.0 and number_list[i]<45.0):\n",
    "             letter_grade.append(\"D\")\n",
    "             grade_point.append(2.00)\n",
    "             sum_of_credit_and_grade=sum_of_credit_and_grade+credit_list[i]*grade_point[i]\n",
    "        elif(number_list[i]<40.0):\n",
    "             letter_grade.append(\"F\")\n",
    "             grade_point.append(0.00)\n",
    "             review_list.append(credit_list[i])\n",
    "             \n",
    "    \n",
    "    sumation_of_earned_credit=sum(credit_list)-sum(review_list)\n",
    "    gpa=sum_of_credit_and_grade/sumation_of_earned_credit\n",
    "    print(\"Course Name \\t Credit Hours \\t Letter Grade \\t Grade Point\")\n",
    "    for i in range(0,total):\n",
    "         print(\"Course_{}\\t\\t{}\\t\\t{}\\t\\t{}\".format(i+1,credit_list[i],letter_grade[i],grade_point[i]))\n",
    "    \n",
    "    print(\"\\n\\t\\t\\t\\t\\t\\t\\tGPA: {:0.2f}\".format(gpa))\n",
    "    print(\"Registered Credit Hours in this Semester: {}\".format(sum(credit_list)))\n",
    "    print(\"Credit Hours Earned in this Semester: {}\".format(sumation_of_earned_credit))\n",
    "    print(\"Total Credit Hours Earned: {}\".format(previous_credit_earned+sumation_of_earned_credit))\n",
    "    cgpa=(((previous_cgpa*previous_credit_earned)+(sumation_of_earned_credit*gpa))/(previous_credit_earned+sumation_of_earned_credit))\n",
    "    print(\"CGPA: {:0.2f}\".format(cgpa))\n",
    "\n",
    "\n",
    "\n",
    "elif(chosse==2):\n",
    "      credit_earned=[]\n",
    "      grade_earned=[]\n",
    "      sum_of_gpa=0\n",
    "      print(\"Enter Total Semester Number\")\n",
    "      total=int(input())\n",
    "      for i in range(0,total):\n",
    "           print(\"Enter Your Semester_{} Credit and Grade\".format(i+1))\n",
    "           credit_earned.append(float(input()))\n",
    "           grade_earned.append(float(input()))\n",
    "           sum_of_gpa= sum_of_gpa + credit_earned[i]*grade_earned[i]\n",
    "     \n",
    "\n",
    "      print(\"Toral Semester: {}\".format(total))\n",
    "      print(\"Total Credit: {}\".format(sum(credit_earned)))\n",
    "      print(\"Total Grade: {:0.2f}\".format(sum(grade_earned)))\n",
    "      print(\"CGPA {:0.2f}\".format(sum_of_gpa/sum(credit_earned)))"
   ]
  },
  {
   "cell_type": "code",
   "execution_count": null,
   "id": "65a37445-fa0a-4b5d-8ffa-0015725d9cf0",
   "metadata": {},
   "outputs": [],
   "source": []
  }
 ],
 "metadata": {
  "kernelspec": {
   "display_name": "Python 3 (ipykernel)",
   "language": "python",
   "name": "python3"
  },
  "language_info": {
   "codemirror_mode": {
    "name": "ipython",
    "version": 3
   },
   "file_extension": ".py",
   "mimetype": "text/x-python",
   "name": "python",
   "nbconvert_exporter": "python",
   "pygments_lexer": "ipython3",
   "version": "3.11.3"
  }
 },
 "nbformat": 4,
 "nbformat_minor": 5
}
